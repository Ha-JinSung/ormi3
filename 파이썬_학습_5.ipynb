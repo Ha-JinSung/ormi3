{
  "nbformat": 4,
  "nbformat_minor": 0,
  "metadata": {
    "colab": {
      "provenance": [],
      "toc_visible": true
    },
    "kernelspec": {
      "name": "python3",
      "display_name": "Python 3"
    },
    "language_info": {
      "name": "python"
    }
  },
  "cells": [
    {
      "cell_type": "markdown",
      "source": [
        "# 클래스 변수와 인스턴스 변수"
      ],
      "metadata": {
        "id": "W4F9bPlmgbCp"
      }
    },
    {
      "cell_type": "code",
      "execution_count": 1,
      "metadata": {
        "colab": {
          "base_uri": "https://localhost:8080/"
        },
        "id": "-QQKZmKHgWEg",
        "outputId": "1362eeae-ae6f-4836-dd48-789b2fa6953b"
      },
      "outputs": [
        {
          "output_type": "stream",
          "name": "stdout",
          "text": [
            "300\n",
            "300\n",
            "500\n"
          ]
        }
      ],
      "source": [
        "class Car:\n",
        "    # 클래스 변수의 위치\n",
        "    max_speed = 300\n",
        "    max_people = 5\n",
        "    car_gear = ['P', 'D', 'R', 'N']\n",
        "\n",
        "modelx = Car()\n",
        "modely = Car()\n",
        "\n",
        "modely.max_speed = 500 # 인스턴스 변수를 변환한거\n",
        "\n",
        "print(Car.max_speed) # 출력 300\n",
        "print(modelx.max_speed) # 출력 300\n",
        "print(modely.max_speed) # 출력 500 (인스턴스 변환된걸 출력)"
      ]
    },
    {
      "cell_type": "code",
      "source": [
        "class Car:\n",
        "    # 클래스 변수의 위치\n",
        "    max_speed = 300\n",
        "    max_people = 5\n",
        "    car_gear = ['P', 'D', 'R', 'N']\n",
        "\n",
        "modelx = Car()\n",
        "modely = Car()\n",
        "\n",
        "modely.max_speed = 500 # 인스턴스 변수를 변환한거\n",
        "\n",
        "print(id(Car.max_speed)) # 출력 300\n",
        "print(id(modelx.max_speed)) # 출력 300\n",
        "print(id(modely.max_speed)) # 출력 500 (인스턴스 변환된걸 출력) id가 혼자만 다르다 위의 두개는 똑같고"
      ],
      "metadata": {
        "colab": {
          "base_uri": "https://localhost:8080/"
        },
        "id": "Z6L_tUHyg8wq",
        "outputId": "3dd02d19-8b78-477a-aded-42fca630891d"
      },
      "execution_count": 2,
      "outputs": [
        {
          "output_type": "stream",
          "name": "stdout",
          "text": [
            "133218459437744\n",
            "133218459437744\n",
            "133218459437872\n"
          ]
        }
      ]
    },
    {
      "cell_type": "code",
      "source": [
        "# 일부러 혼란을 주기 위한 문제\n",
        "# 이런 문제는 실무에서 거의 발생안함\n",
        "class Car:\n",
        "    kinds = []\n",
        "    speed = 300\n",
        "\n",
        "    def add_kinds(self, name):\n",
        "        #self.kinds() 이것을 넣었으면 위의 kinds를 먼저 참조\n",
        "        self.kinds.append(name)\n",
        "\n",
        "    def change_speed(self, speed):\n",
        "        self.speed = speed\n",
        "\n",
        "modelx = Car()\n",
        "modely = Car()\n",
        "\n",
        "modelx.add_kinds('x')\n",
        "modely.add_kinds('y')\n",
        "\n",
        "Car.speed = 100\n",
        "\n",
        "# modelx.change_speed(500)\n",
        "# modely.change_speed(250)\n",
        "\n",
        "print(f'modelx.kinds: {modelx.kinds}')\n",
        "print(f'modely.kinds: {modely.kinds}')\n",
        "print(f'modelx.speed: {modelx.speed}')\n",
        "print(f'modely.speed: {modely.speed}')"
      ],
      "metadata": {
        "colab": {
          "base_uri": "https://localhost:8080/"
        },
        "id": "iNpkl1c_hMZi",
        "outputId": "e4fcc4f6-ee44-415f-bdde-0ca49ebed8cf"
      },
      "execution_count": 3,
      "outputs": [
        {
          "output_type": "stream",
          "name": "stdout",
          "text": [
            "modelx.kinds: ['x', 'y']\n",
            "modely.kinds: ['x', 'y']\n",
            "modelx.speed: 100\n",
            "modely.speed: 100\n"
          ]
        }
      ]
    },
    {
      "cell_type": "code",
      "source": [
        "class Car:\n",
        "    kinds = []\n",
        "    speed = 300\n",
        "\n",
        "    def add_kinds(self, name):\n",
        "        #self.kinds() 이것을 넣었으면 위의 kinds를 먼저 참조\n",
        "        self.kinds.append(name)\n",
        "\n",
        "    def change_speed(self, speed):\n",
        "        self.speed = speed\n",
        "\n",
        "modelx = Car()\n",
        "modely = Car()\n",
        "\n",
        "modelx.add_kinds('x')\n",
        "modely.add_kinds('y')\n",
        "\n",
        "# Car.speed = 100\n",
        "\n",
        "modelx.change_speed(500)\n",
        "modely.change_speed(250)\n",
        "\n",
        "print(f'modelx.kinds: {modelx.speed}')\n",
        "print(f'modely.kinds: {modely.speed}')"
      ],
      "metadata": {
        "colab": {
          "base_uri": "https://localhost:8080/"
        },
        "id": "UshaQXyaj-uh",
        "outputId": "d7bf8cb8-5c58-433f-80a5-33eea4fd8ee0"
      },
      "execution_count": 7,
      "outputs": [
        {
          "output_type": "stream",
          "name": "stdout",
          "text": [
            "modelx.kinds: 500\n",
            "modely.kinds: 250\n"
          ]
        }
      ]
    },
    {
      "cell_type": "code",
      "source": [
        "kinds = [] # 전역변수 speed 300 안에 값이 있었다면 먼저 출력후 인스턴스 추가된 값이 다음으로 출력된다 [kinds, add_kinds]식으로\n",
        "\n",
        "def add_kinds(value):\n",
        "    kinds.append(value) # 지역에 해당 변수가 없으므로 전역변수 kinds에 append\n",
        "\n",
        "add_kinds(100)\n",
        "kinds"
      ],
      "metadata": {
        "colab": {
          "base_uri": "https://localhost:8080/"
        },
        "id": "s5QiRaPQjEnL",
        "outputId": "ce9d8208-66d5-47aa-d918-d5758065bdaa"
      },
      "execution_count": 5,
      "outputs": [
        {
          "output_type": "execute_result",
          "data": {
            "text/plain": [
              "[100]"
            ]
          },
          "metadata": {},
          "execution_count": 5
        }
      ]
    },
    {
      "cell_type": "code",
      "source": [
        "kinds = [] # 전역변수 speed 300\n",
        "\n",
        "def add_kinds(value):\n",
        "    kinds = [] # 이 식을 넣으면 밑의 인스턴스 값이 출력이 안된다.\n",
        "    kinds.append(value) # 지역에 해당 변수가 없으므로 전역변수 kinds에 append\n",
        "\n",
        "add_kinds(100)\n",
        "kinds"
      ],
      "metadata": {
        "colab": {
          "base_uri": "https://localhost:8080/"
        },
        "id": "YZvb4sjFjuqm",
        "outputId": "7a1d6288-0f5c-4c59-83ab-a8458d2a67ff"
      },
      "execution_count": 9,
      "outputs": [
        {
          "output_type": "execute_result",
          "data": {
            "text/plain": [
              "[]"
            ]
          },
          "metadata": {},
          "execution_count": 9
        }
      ]
    },
    {
      "cell_type": "code",
      "source": [
        "x = 100\n",
        "def test():\n",
        "    print(x) # 내 메모리 영역에 x가 없네? 그러면 찾아 올라간다\n",
        "\n",
        "test()"
      ],
      "metadata": {
        "colab": {
          "base_uri": "https://localhost:8080/"
        },
        "id": "l4nHYeFxkpVJ",
        "outputId": "dc59a083-6127-4a17-9174-e801ff9ffd1b"
      },
      "execution_count": 10,
      "outputs": [
        {
          "output_type": "stream",
          "name": "stdout",
          "text": [
            "100\n"
          ]
        }
      ]
    },
    {
      "cell_type": "code",
      "source": [
        "x = 100\n",
        "def test():\n",
        "    x = 200 # 값은 읽어 들여도 출력은 변경 안된다.\n",
        "    # x는 전역변수는 건드리지 않고 지역변수 200을 선언한것뿐이다.\n",
        "\n",
        "test()\n",
        "x"
      ],
      "metadata": {
        "colab": {
          "base_uri": "https://localhost:8080/"
        },
        "id": "3_6c6YGZk36u",
        "outputId": "4d5d9182-1b46-4ac0-d825-580dc8b67555"
      },
      "execution_count": 11,
      "outputs": [
        {
          "output_type": "execute_result",
          "data": {
            "text/plain": [
              "100"
            ]
          },
          "metadata": {},
          "execution_count": 11
        }
      ]
    },
    {
      "cell_type": "code",
      "source": [
        "x = 100\n",
        "def test():\n",
        "    global x # global로 전역변수를 변경하는게 가능하다.\n",
        "    x = 200\n",
        "\n",
        "test()\n",
        "x"
      ],
      "metadata": {
        "colab": {
          "base_uri": "https://localhost:8080/"
        },
        "id": "KLf3Io4ClLoD",
        "outputId": "c86d554f-b8be-43c7-cdb0-6c8f4faeb9b1"
      },
      "execution_count": 13,
      "outputs": [
        {
          "output_type": "execute_result",
          "data": {
            "text/plain": [
              "200"
            ]
          },
          "metadata": {},
          "execution_count": 13
        }
      ]
    },
    {
      "cell_type": "code",
      "source": [
        "x = 100\n",
        "def test():\n",
        "    x += 100 # x = x + 100에서 x + 100 부분에서 에러 (전역변수의 변경을 막을려고 에러가 나온것.)\n",
        "\n",
        "test()"
      ],
      "metadata": {
        "colab": {
          "base_uri": "https://localhost:8080/",
          "height": 349
        },
        "id": "bdQtipT1lYeJ",
        "outputId": "78727166-a58e-432a-e67b-3e560ca81cd3"
      },
      "execution_count": 14,
      "outputs": [
        {
          "output_type": "error",
          "ename": "UnboundLocalError",
          "evalue": "ignored",
          "traceback": [
            "\u001b[0;31m---------------------------------------------------------------------------\u001b[0m",
            "\u001b[0;31mUnboundLocalError\u001b[0m                         Traceback (most recent call last)",
            "\u001b[0;32m<ipython-input-14-ba927c47bfc9>\u001b[0m in \u001b[0;36m<cell line: 5>\u001b[0;34m()\u001b[0m\n\u001b[1;32m      3\u001b[0m     \u001b[0mx\u001b[0m \u001b[0;34m+=\u001b[0m \u001b[0;36m100\u001b[0m\u001b[0;34m\u001b[0m\u001b[0;34m\u001b[0m\u001b[0m\n\u001b[1;32m      4\u001b[0m \u001b[0;34m\u001b[0m\u001b[0m\n\u001b[0;32m----> 5\u001b[0;31m \u001b[0mtest\u001b[0m\u001b[0;34m(\u001b[0m\u001b[0;34m)\u001b[0m\u001b[0;34m\u001b[0m\u001b[0;34m\u001b[0m\u001b[0m\n\u001b[0m",
            "\u001b[0;32m<ipython-input-14-ba927c47bfc9>\u001b[0m in \u001b[0;36mtest\u001b[0;34m()\u001b[0m\n\u001b[1;32m      1\u001b[0m \u001b[0mx\u001b[0m \u001b[0;34m=\u001b[0m \u001b[0;36m100\u001b[0m\u001b[0;34m\u001b[0m\u001b[0;34m\u001b[0m\u001b[0m\n\u001b[1;32m      2\u001b[0m \u001b[0;32mdef\u001b[0m \u001b[0mtest\u001b[0m\u001b[0;34m(\u001b[0m\u001b[0;34m)\u001b[0m\u001b[0;34m:\u001b[0m\u001b[0;34m\u001b[0m\u001b[0;34m\u001b[0m\u001b[0m\n\u001b[0;32m----> 3\u001b[0;31m     \u001b[0mx\u001b[0m \u001b[0;34m+=\u001b[0m \u001b[0;36m100\u001b[0m\u001b[0;34m\u001b[0m\u001b[0;34m\u001b[0m\u001b[0m\n\u001b[0m\u001b[1;32m      4\u001b[0m \u001b[0;34m\u001b[0m\u001b[0m\n\u001b[1;32m      5\u001b[0m \u001b[0mtest\u001b[0m\u001b[0;34m(\u001b[0m\u001b[0;34m)\u001b[0m\u001b[0;34m\u001b[0m\u001b[0;34m\u001b[0m\u001b[0m\n",
            "\u001b[0;31mUnboundLocalError\u001b[0m: local variable 'x' referenced before assignment"
          ]
        }
      ]
    },
    {
      "cell_type": "code",
      "source": [
        "x = 100\n",
        "def test():\n",
        "    global x\n",
        "    x += 100\n",
        "\n",
        "test()\n",
        "x"
      ],
      "metadata": {
        "colab": {
          "base_uri": "https://localhost:8080/"
        },
        "id": "4PO-mvrfmVMg",
        "outputId": "6d90aca7-7d66-4412-af35-9791297fa23c"
      },
      "execution_count": 16,
      "outputs": [
        {
          "output_type": "execute_result",
          "data": {
            "text/plain": [
              "200"
            ]
          },
          "metadata": {},
          "execution_count": 16
        }
      ]
    },
    {
      "cell_type": "code",
      "source": [
        "# 매우 중요\n",
        "x = []\n",
        "def test():\n",
        "    x.append(100) #\n",
        "\n",
        "test()\n",
        "x"
      ],
      "metadata": {
        "colab": {
          "base_uri": "https://localhost:8080/"
        },
        "id": "32p2rTE0mg4d",
        "outputId": "cf2a1a36-8c17-4f6e-cb2c-ad377a57f532"
      },
      "execution_count": 2,
      "outputs": [
        {
          "output_type": "execute_result",
          "data": {
            "text/plain": [
              "[100]"
            ]
          },
          "metadata": {},
          "execution_count": 2
        }
      ]
    },
    {
      "cell_type": "code",
      "source": [
        "# 매우 중요\n",
        "l = [10, 20, 30]\n",
        "def test(ll):\n",
        "    ll.append(40) # ll은 [10, 20, 30]을 가리킨다. (l을 가리키는게 아니라)\n",
        "\n",
        "test(l)\n",
        "l"
      ],
      "metadata": {
        "colab": {
          "base_uri": "https://localhost:8080/"
        },
        "id": "fG8v6n7Jm9j1",
        "outputId": "90d4b5d1-e407-4613-df11-fd2dfb4bb06e"
      },
      "execution_count": 1,
      "outputs": [
        {
          "output_type": "execute_result",
          "data": {
            "text/plain": [
              "[10, 20, 30, 40]"
            ]
          },
          "metadata": {},
          "execution_count": 1
        }
      ]
    },
    {
      "cell_type": "code",
      "source": [
        "# 매우 중요\n",
        "i = 100\n",
        "def test(ii):\n",
        "    ii=  300\n",
        "\n",
        "test(i)\n",
        "i"
      ],
      "metadata": {
        "colab": {
          "base_uri": "https://localhost:8080/"
        },
        "id": "X6Y4GEP5n5jG",
        "outputId": "6ac19d34-a430-4195-ab94-8decba9ad7bf"
      },
      "execution_count": 4,
      "outputs": [
        {
          "output_type": "execute_result",
          "data": {
            "text/plain": [
              "100"
            ]
          },
          "metadata": {},
          "execution_count": 4
        }
      ]
    },
    {
      "cell_type": "code",
      "source": [
        "# 매우 중요\n",
        "i = [10, 20, 30]\n",
        "def test(ii):\n",
        "    ii=  100\n",
        "\n",
        "test(i)\n",
        "i"
      ],
      "metadata": {
        "colab": {
          "base_uri": "https://localhost:8080/"
        },
        "id": "DRkXkyYCqonm",
        "outputId": "4cf15917-5367-4fb4-c989-386c685ba67d"
      },
      "execution_count": 8,
      "outputs": [
        {
          "output_type": "execute_result",
          "data": {
            "text/plain": [
              "[10, 20, 30]"
            ]
          },
          "metadata": {},
          "execution_count": 8
        }
      ]
    },
    {
      "cell_type": "code",
      "source": [
        "def hello():\n",
        "    print('hello world')\n",
        "\n",
        "print(type(hello)) # 출력: <class 'function'>\n",
        "#isinstance(hello, def)"
      ],
      "metadata": {
        "colab": {
          "base_uri": "https://localhost:8080/"
        },
        "id": "G6dM5ZpFsofm",
        "outputId": "40163a7a-4278-48d9-cc41-ab2f126c1371"
      },
      "execution_count": 11,
      "outputs": [
        {
          "output_type": "stream",
          "name": "stdout",
          "text": [
            "<class 'function'>\n"
          ]
        }
      ]
    },
    {
      "cell_type": "markdown",
      "source": [
        "# 매직 메서드 magic method"
      ],
      "metadata": {
        "id": "R-YUvPG2vf4a"
      }
    },
    {
      "cell_type": "code",
      "source": [
        "class Point:\n",
        "\n",
        "    def __init__(self, x, y):\n",
        "        self.x = x\n",
        "        self.y = y\n",
        "\n",
        "    def __add__(self, other):\n",
        "        if isinstance(other, Point):\n",
        "            return Point((self.x + other.x), (self.y + other.y))\n",
        "        elif isinstance(other, int) or isinstance(other, float):\n",
        "            return Point((self.x + other), (self.y + other))\n",
        "\n",
        "    def distance(self, other):\n",
        "        dx = self.x - other.x\n",
        "        dy = self.y - other.y\n",
        "        return (dx**2 + dy**2)**0.5\n",
        "\n",
        "dot1 = Point(10, 20)\n",
        "dot2 = Point(20, 30)\n",
        "\n",
        "dot3 = dot1 + 10\n",
        "print(dot1.x, dot1.y) # 출력: 10 20\n",
        "print(dot3.x, dot3.y) # 출력: 20 30\n",
        "\n",
        "dot4 = dot1 + dot2\n",
        "print(dot4.x, dot4.y) # 출력: 30 50\n",
        "print(dot4.distance(dot1)) # 출력: 36.05551275463989"
      ],
      "metadata": {
        "colab": {
          "base_uri": "https://localhost:8080/"
        },
        "id": "ERmmZYnZsz46",
        "outputId": "84a96443-bf2c-48ac-e22a-1916e12f17cb"
      },
      "execution_count": 12,
      "outputs": [
        {
          "output_type": "stream",
          "name": "stdout",
          "text": [
            "10 20\n",
            "20 30\n",
            "30 50\n",
            "36.05551275463989\n"
          ]
        }
      ]
    },
    {
      "cell_type": "code",
      "source": [
        "# 개행 규칙 철저하게 지켜야 한다 그래야 실행된다.\n",
        "class Point:\n",
        "\n",
        "    def __init__(self, x, y):\n",
        "        self.x = x\n",
        "        self.y = y\n",
        "\n",
        "    def __mul__(self, other):\n",
        "        return 'hello'\n",
        "\n",
        "dot1 = Point(10, 20)\n",
        "dot2 = Point(20, 30)\n",
        "\n",
        "dot1 * dot2 # 출력: hello"
      ],
      "metadata": {
        "id": "fB73u0U2vtGf"
      },
      "execution_count": null,
      "outputs": []
    },
    {
      "cell_type": "code",
      "source": [
        "class Counter:\n",
        "\n",
        "    def __init__(self):\n",
        "        self.num = 0\n",
        "\n",
        "    def __len__(self):\n",
        "        return 100000\n",
        "\n",
        "    def __call__(self):\n",
        "        return 'hello'\n",
        "\n",
        "    def __getitem__(self, key):\n",
        "        return key*10\n",
        "\n",
        "    def __str__(self):\n",
        "        return 'hello'\n",
        "\n",
        "    def __repr__(self):\n",
        "        return 'wolrd'\n",
        "\n",
        "c = Counter()\n",
        "len(c)\n",
        "c()\n",
        "c[10]\n",
        "print(c) # print(str(c)) __str__ 출력\n",
        "c # __repr__ 출력"
      ],
      "metadata": {
        "colab": {
          "base_uri": "https://localhost:8080/"
        },
        "id": "kk7jJV6zxHn1",
        "outputId": "130bcede-9061-4dbf-98ae-33f2ab319034"
      },
      "execution_count": 17,
      "outputs": [
        {
          "output_type": "stream",
          "name": "stdout",
          "text": [
            "hello\n"
          ]
        }
      ]
    },
    {
      "cell_type": "markdown",
      "source": [
        "# 상속"
      ],
      "metadata": {
        "id": "i92aOZkFye7g"
      }
    },
    {
      "cell_type": "code",
      "source": [
        "class A:\n",
        "    def hello(self):\n",
        "        return 'hello'\n",
        "\n",
        "class B(A):\n",
        "    def world(self):\n",
        "        return 'world'\n",
        "\n",
        "b = B()\n",
        "b.hello() # 'hello' 출력 A class에서 'hello'를 받아오는거 오버라이딩 해온것이다.\n",
        "b.world() # 'world' 출력"
      ],
      "metadata": {
        "colab": {
          "base_uri": "https://localhost:8080/",
          "height": 35
        },
        "id": "aNzvCaiux4UW",
        "outputId": "445fd2b2-6a42-404a-a48c-142ce97d2270"
      },
      "execution_count": 19,
      "outputs": [
        {
          "output_type": "execute_result",
          "data": {
            "text/plain": [
              "'world'"
            ],
            "application/vnd.google.colaboratory.intrinsic+json": {
              "type": "string"
            }
          },
          "metadata": {},
          "execution_count": 19
        }
      ]
    },
    {
      "cell_type": "code",
      "source": [
        "class A:\n",
        "    def hello(self):\n",
        "        return 'hello'\n",
        "\n",
        "class B(A):\n",
        "    def __init__(self, a, b):\n",
        "        print(a, b)\n",
        "\n",
        "    def world(self):\n",
        "        return 'world'\n",
        "\n",
        "b = B(10) # A에서 처리하는 것이 아니고 a에서 처리하는거임\n",
        "b.hello()\n",
        "b.world()"
      ],
      "metadata": {
        "colab": {
          "base_uri": "https://localhost:8080/",
          "height": 258
        },
        "id": "Zw2M9RAn0PEk",
        "outputId": "81cc6b36-dd77-44b2-f281-44af90dd85d4"
      },
      "execution_count": 1,
      "outputs": [
        {
          "output_type": "error",
          "ename": "TypeError",
          "evalue": "ignored",
          "traceback": [
            "\u001b[0;31m---------------------------------------------------------------------------\u001b[0m",
            "\u001b[0;31mTypeError\u001b[0m                                 Traceback (most recent call last)",
            "\u001b[0;32m<ipython-input-1-a24bb299749b>\u001b[0m in \u001b[0;36m<cell line: 12>\u001b[0;34m()\u001b[0m\n\u001b[1;32m     10\u001b[0m         \u001b[0;32mreturn\u001b[0m \u001b[0;34m'world'\u001b[0m\u001b[0;34m\u001b[0m\u001b[0;34m\u001b[0m\u001b[0m\n\u001b[1;32m     11\u001b[0m \u001b[0;34m\u001b[0m\u001b[0m\n\u001b[0;32m---> 12\u001b[0;31m \u001b[0mb\u001b[0m \u001b[0;34m=\u001b[0m \u001b[0mB\u001b[0m\u001b[0;34m(\u001b[0m\u001b[0;36m10\u001b[0m\u001b[0;34m)\u001b[0m \u001b[0;31m# A에서 처리하는 것이 아니고 a에서 처리하는거임\u001b[0m\u001b[0;34m\u001b[0m\u001b[0;34m\u001b[0m\u001b[0m\n\u001b[0m\u001b[1;32m     13\u001b[0m \u001b[0mb\u001b[0m\u001b[0;34m.\u001b[0m\u001b[0mhello\u001b[0m\u001b[0;34m(\u001b[0m\u001b[0;34m)\u001b[0m\u001b[0;34m\u001b[0m\u001b[0;34m\u001b[0m\u001b[0m\n\u001b[1;32m     14\u001b[0m \u001b[0mb\u001b[0m\u001b[0;34m.\u001b[0m\u001b[0mworld\u001b[0m\u001b[0;34m(\u001b[0m\u001b[0;34m)\u001b[0m\u001b[0;34m\u001b[0m\u001b[0;34m\u001b[0m\u001b[0m\n",
            "\u001b[0;31mTypeError\u001b[0m: B.__init__() missing 1 required positional argument: 'b'"
          ]
        }
      ]
    },
    {
      "cell_type": "code",
      "source": [
        "# 파이썬 2.x 일때는 object를 반드시 넣어야 했지만, 3.x는 안넣어도 된다.\n",
        "class A(object):\n",
        "    def hello(self):\n",
        "        return 'hello'\n",
        "\n",
        "class B(A):\n",
        "    def __init__(self, a):\n",
        "        print(a)\n",
        "\n",
        "    def world(self):\n",
        "        return 'world'\n",
        "\n",
        "b = B(10) # A에서 처리하는 것이 아니고 a에서 처리하는거임\n",
        "b.hello()\n",
        "b.world()\n",
        "dir(b)"
      ],
      "metadata": {
        "colab": {
          "base_uri": "https://localhost:8080/"
        },
        "id": "5rd4FFQK0hiO",
        "outputId": "09142b84-a77b-4ecf-edc6-0f14b5b321e2"
      },
      "execution_count": 2,
      "outputs": [
        {
          "output_type": "stream",
          "name": "stdout",
          "text": [
            "10\n"
          ]
        },
        {
          "output_type": "execute_result",
          "data": {
            "text/plain": [
              "['__class__',\n",
              " '__delattr__',\n",
              " '__dict__',\n",
              " '__dir__',\n",
              " '__doc__',\n",
              " '__eq__',\n",
              " '__format__',\n",
              " '__ge__',\n",
              " '__getattribute__',\n",
              " '__gt__',\n",
              " '__hash__',\n",
              " '__init__',\n",
              " '__init_subclass__',\n",
              " '__le__',\n",
              " '__lt__',\n",
              " '__module__',\n",
              " '__ne__',\n",
              " '__new__',\n",
              " '__reduce__',\n",
              " '__reduce_ex__',\n",
              " '__repr__',\n",
              " '__setattr__',\n",
              " '__sizeof__',\n",
              " '__str__',\n",
              " '__subclasshook__',\n",
              " '__weakref__',\n",
              " 'hello',\n",
              " 'world']"
            ]
          },
          "metadata": {},
          "execution_count": 2
        }
      ]
    },
    {
      "cell_type": "code",
      "source": [
        "# 모든 클래스는 부모클래스에 변화된 변수값에 따라간다.\n",
        "\n",
        "class A(object):\n",
        "    test = 0\n",
        "    def one(self):\n",
        "        return 'one'\n",
        "\n",
        "class B(A):\n",
        "    def two(self):\n",
        "        return 'two'\n",
        "\n",
        "class C(B):\n",
        "    def three(self):\n",
        "        return 'three'\n",
        "\n",
        "\n",
        "\n",
        "c = C()\n",
        "A.test = 300\n",
        "c.test # 상속을 받을 때 내 보유하고 있는 값은 아니다. 참조 값이다."
      ],
      "metadata": {
        "colab": {
          "base_uri": "https://localhost:8080/"
        },
        "id": "qR4tM8Nq06EY",
        "outputId": "cf3c7d32-a37e-4a10-8e9f-2b48436902e8"
      },
      "execution_count": 5,
      "outputs": [
        {
          "output_type": "execute_result",
          "data": {
            "text/plain": [
              "300"
            ]
          },
          "metadata": {},
          "execution_count": 5
        }
      ]
    },
    {
      "cell_type": "code",
      "source": [
        "class Car(object):\n",
        "    maxSpeed = 300\n",
        "    maxPeople = 5\n",
        "\n",
        "    def move(self):\n",
        "        print('출발하였습니다.')\n",
        "\n",
        "    def stop(self):\n",
        "        print('멈췄습니다.')\n",
        "\n",
        "class HybridCar(Car):\n",
        "    battery = 1000\n",
        "    batteryKM = 300\n",
        "\n",
        "class ElectricCar(HybridCar):\n",
        "    battery = 2000\n",
        "    batteryKM = 600\n",
        "\n",
        "\n",
        "modelx = HybridCar()\n",
        "electricCarModely = ElectricCar()\n",
        "print(modelx.maxSpeed)\n",
        "print(electricCarModely.maxSpeed)\n",
        "print(electricCarModely.battery)\n",
        "electricCarModely.move()"
      ],
      "metadata": {
        "colab": {
          "base_uri": "https://localhost:8080/"
        },
        "id": "zWYeQpGS1Ddi",
        "outputId": "111853da-edff-4270-d4b2-91eea7814a39"
      },
      "execution_count": 6,
      "outputs": [
        {
          "output_type": "stream",
          "name": "stdout",
          "text": [
            "300\n",
            "300\n",
            "2000\n",
            "출발하였습니다.\n"
          ]
        }
      ]
    },
    {
      "cell_type": "markdown",
      "source": [
        "## 다중 상속"
      ],
      "metadata": {
        "id": "3LTPxiUO5_0W"
      }
    },
    {
      "cell_type": "code",
      "source": [
        "class A:\n",
        "    def hello(self):\n",
        "        print('hello A')\n",
        "\n",
        "class B:\n",
        "    def hello(self):\n",
        "        print('hello B')\n",
        "\n",
        "class C(A, B):\n",
        "    pass\n",
        "\n",
        "c = C()\n",
        "c.hello() # 주의! python의 코드의 특성상 hello B라고 오해할만합니다. 2.x와 3.x가 상속에 순서가 다릅니다."
      ],
      "metadata": {
        "colab": {
          "base_uri": "https://localhost:8080/"
        },
        "id": "arN8ZVIZ795i",
        "outputId": "94234208-30b3-48c6-a2b2-8324e18c3add"
      },
      "execution_count": 11,
      "outputs": [
        {
          "output_type": "stream",
          "name": "stdout",
          "text": [
            "hello A\n"
          ]
        }
      ]
    },
    {
      "cell_type": "code",
      "source": [
        "# 주의 2.x와 3.x가 아래 다이아몬든 상속에 순서가 다르다.\n",
        "\n",
        "class A:\n",
        "    def hello(self):\n",
        "        print('hello A')\n",
        "\n",
        "class B(A):\n",
        "    def hello(self):\n",
        "        print('hello B')\n",
        "\n",
        "class C(A):\n",
        "    def hello(self):\n",
        "        print('hello C')\n",
        "\n",
        "class D(B, C):\n",
        "    pass\n",
        "\n",
        "d = D()\n",
        "d.hello()\n",
        "D.mro()"
      ],
      "metadata": {
        "colab": {
          "base_uri": "https://localhost:8080/"
        },
        "id": "iDWlZ7A65abz",
        "outputId": "deb38a3e-a480-4be9-b846-2bb3cfeee55c"
      },
      "execution_count": 13,
      "outputs": [
        {
          "output_type": "stream",
          "name": "stdout",
          "text": [
            "hello B\n"
          ]
        },
        {
          "output_type": "execute_result",
          "data": {
            "text/plain": [
              "[__main__.D, __main__.B, __main__.C, __main__.A, object]"
            ]
          },
          "metadata": {},
          "execution_count": 13
        }
      ]
    },
    {
      "cell_type": "code",
      "source": [
        "# 다중 상속을 했을 때 상속에서 에러가 나는 경우 (상속이 꼬이는 경우) - 정상 실행되는 거\n",
        "# 2.x버전은 class A를 class A(object)로 변경해야한다.\n",
        "\n",
        "class A:\n",
        "    def hello(self):\n",
        "        print('hello A')\n",
        "\n",
        "class B(A):\n",
        "    def hello(self):\n",
        "        print('hello B')\n",
        "\n",
        "class C(B):\n",
        "    def hello(self):\n",
        "        print('hello C')\n",
        "\n",
        "class D(C, B):\n",
        "    pass\n",
        "\n",
        "d = D()\n",
        "d.hello()\n",
        "D.mro"
      ],
      "metadata": {
        "colab": {
          "base_uri": "https://localhost:8080/"
        },
        "id": "cEgJ4kEF7P-5",
        "outputId": "dcae61ed-5bd6-425d-ebc6-c6735a76e55b"
      },
      "execution_count": 3,
      "outputs": [
        {
          "output_type": "stream",
          "name": "stdout",
          "text": [
            "hello C\n"
          ]
        },
        {
          "output_type": "execute_result",
          "data": {
            "text/plain": [
              "<function D.mro()>"
            ]
          },
          "metadata": {},
          "execution_count": 3
        }
      ]
    },
    {
      "cell_type": "code",
      "source": [
        "# 다중 상속을 했을 때 상속에서 에러가 나는 경우 (상속이 꼬이는 경우) - 에러가 나는 거\n",
        "class A:\n",
        "    def hello(self):\n",
        "        print('hello A')\n",
        "\n",
        "class B(A):\n",
        "    def hello(self):\n",
        "        print('hello B')\n",
        "\n",
        "class C(B):\n",
        "    def hello(self):\n",
        "        print('hello C')\n",
        "\n",
        "class D(B, C):\n",
        "    pass\n",
        "\n",
        "d = D()\n",
        "d.hello()\n",
        "D.mro"
      ],
      "metadata": {
        "colab": {
          "base_uri": "https://localhost:8080/",
          "height": 276
        },
        "id": "nhaYjbzL85IK",
        "outputId": "18a4040b-e2dc-4a6c-e145-6281bb4c1554"
      },
      "execution_count": 18,
      "outputs": [
        {
          "output_type": "error",
          "ename": "TypeError",
          "evalue": "ignored",
          "traceback": [
            "\u001b[0;31m---------------------------------------------------------------------------\u001b[0m",
            "\u001b[0;31mTypeError\u001b[0m                                 Traceback (most recent call last)",
            "\u001b[0;32m<ipython-input-18-3c433990326a>\u001b[0m in \u001b[0;36m<cell line: 14>\u001b[0;34m()\u001b[0m\n\u001b[1;32m     12\u001b[0m         \u001b[0mprint\u001b[0m\u001b[0;34m(\u001b[0m\u001b[0;34m'hello C'\u001b[0m\u001b[0;34m)\u001b[0m\u001b[0;34m\u001b[0m\u001b[0;34m\u001b[0m\u001b[0m\n\u001b[1;32m     13\u001b[0m \u001b[0;34m\u001b[0m\u001b[0m\n\u001b[0;32m---> 14\u001b[0;31m \u001b[0;32mclass\u001b[0m \u001b[0mD\u001b[0m\u001b[0;34m(\u001b[0m\u001b[0mB\u001b[0m\u001b[0;34m,\u001b[0m \u001b[0mC\u001b[0m\u001b[0;34m)\u001b[0m\u001b[0;34m:\u001b[0m\u001b[0;34m\u001b[0m\u001b[0;34m\u001b[0m\u001b[0m\n\u001b[0m\u001b[1;32m     15\u001b[0m     \u001b[0;32mpass\u001b[0m\u001b[0;34m\u001b[0m\u001b[0;34m\u001b[0m\u001b[0m\n\u001b[1;32m     16\u001b[0m \u001b[0;34m\u001b[0m\u001b[0m\n",
            "\u001b[0;31mTypeError\u001b[0m: Cannot create a consistent method resolution\norder (MRO) for bases B, C"
          ]
        }
      ]
    },
    {
      "cell_type": "markdown",
      "source": [
        "# 연습문제"
      ],
      "metadata": {
        "id": "-yzCXQy89bJd"
      }
    },
    {
      "cell_type": "code",
      "source": [],
      "metadata": {
        "id": "oZ3pB1lgiGNe"
      },
      "execution_count": null,
      "outputs": []
    },
    {
      "cell_type": "markdown",
      "source": [
        "##  게임에서 캐릭터를 구현 할 예정 아래 클래스를 적절하게 조합하여 hero 인스턴스와 villain 인스턴스를 만들어라.\n",
        "---\n",
        "* 1. class Body (능력치)\n",
        "* 2. class Weapon (무기)\n",
        "* 3. class Weapon Enhancement (무기강화)\n",
        "* 4. class Skill (기술)\n",
        "* 5. class Equipment (장비)\n",
        "* 6. class Role (히어로인지, 빌런인지, 몹인지)"
      ],
      "metadata": {
        "id": "QTt3nrQ5LLoB"
      }
    },
    {
      "cell_type": "code",
      "source": [
        "# 문제 풀이\n",
        "\n",
        "class Weapon:\n",
        "    def setDamage(self, damage):\n",
        "        self.damage = damage\n",
        "\n",
        "class Weapon_Enhancement(Weapon):\n",
        "    def setEnhancement(self, success):\n",
        "        if success == True:\n",
        "            self.damage *= 5\n",
        "        else:\n",
        "            self.damage = 0\n",
        "\n",
        "class Equipment(Weapon_Enhancement):\n",
        "    def setEquipment(self, equipment):\n",
        "        self.equipment = equipment\n",
        "\n",
        "class Role:\n",
        "    def setRole(self, role):\n",
        "        self.role = role\n",
        "\n",
        "class Skill:\n",
        "    def jarvis(self):\n",
        "        return '자비스! 도와줘!'\n",
        "\n",
        "    def beam(self):\n",
        "        return '나가라 빔!'\n",
        "\n",
        "class Body(Role,  Skill, Equipment):\n",
        "    def __init__(self, role, hp, mp, power):\n",
        "        self.setRole(role)\n",
        "\n",
        "ironman = Body('hero', 100, 100, 100)\n",
        "thanos = Body('villain', 100, 100, 80)\n",
        "b.setEquipment('Sword')\n",
        "ironman.role\n",
        "ironman.jarvis()\n",
        "ironman.beam()\n",
        "ironman.setDamage(1000)\n",
        "ironman.damage\n",
        "ironman.setEnhancement(True)\n",
        "ironman.setEnhancement(True)\n",
        "ironman.damage\n",
        "print(b.equipment)"
      ],
      "metadata": {
        "colab": {
          "base_uri": "https://localhost:8080/"
        },
        "id": "wzBwCCvbDHJg",
        "outputId": "2471ff25-6ea8-4e56-95be-b7403ff75cc0"
      },
      "execution_count": 24,
      "outputs": [
        {
          "output_type": "execute_result",
          "data": {
            "text/plain": [
              "25000"
            ]
          },
          "metadata": {},
          "execution_count": 24
        }
      ]
    },
    {
      "cell_type": "code",
      "source": [
        "# class Body:\n",
        "#     def __init__(self, hp, mp, level):\n",
        "#         self.hp = hp\n",
        "#         self.mp = mp\n",
        "#         self.level = level\n",
        "\n",
        "# class Weapon:\n",
        "#     def __init__(self, sword, staff):\n",
        "#         self.sword = sword\n",
        "#         self.staff = staff\n",
        "\n",
        "# class WeaponEnhancement(Weapon):\n",
        "#     def __init__(self, sword ,staff ,enhancement_level=0):\n",
        "#         super().__init__(sword ,staff)\n",
        "#         self.enhancement_level= enhancement_level\n",
        "\n",
        "# class Skill:\n",
        "#     def __init__(self, attack, magic, sneak):\n",
        "#         self.attack = attack\n",
        "#         self.magic = magic\n",
        "#         self.sneak = sneak\n",
        "\n",
        "# class Equipment:\n",
        "#      def __init__(self, shield, clothes, shose):\n",
        "#         self.shield = shield\n",
        "#         self.clothes = clothes\n",
        "#         self.shose = shose\n",
        "\n",
        "# class Role:\n",
        "#     def __init__(self, hero, villain, monster):\n",
        "#         self.hero = hero\n",
        "#         self.villain = villain\n",
        "#         self.monster = monster\n"
      ],
      "metadata": {
        "id": "vhCWUiOB-k95"
      },
      "execution_count": 8,
      "outputs": []
    },
    {
      "cell_type": "markdown",
      "source": [
        "## 과제"
      ],
      "metadata": {
        "id": "RXt8JxVeLDna"
      }
    },
    {
      "cell_type": "markdown",
      "source": [
        "* 문제 1:\n",
        "동물 클래스 Animal을 만들고 어주세요. Dog와 Cat 클래스를 각각 정의하십시오.\n",
        "---\n",
        "Animal 클래스는 name 속성을 가집니다. 이 클래스는 make_sound 메서드를 갖고 있습니다.\n",
        "\n",
        "Dog와 Cat 클래스는 Animal 클래스를 상속받는 클래스입니다.Dog 클래스의 make_sound 메서드는 \"멍멍!\"을, Cat 클래스의 make_sound 메서드는 \"야옹!\"을 출력하도록 재정의하세요.\n",
        "\n",
        "더 완성도 높은 클래스를 만들어보세요. 추가 속성이나 메서드 작성 가능합니다."
      ],
      "metadata": {
        "id": "sQjXBjyDML2d"
      }
    },
    {
      "cell_type": "code",
      "source": [
        "# 문제 1\n",
        "\n",
        "class Animal:\n",
        "    #name\n",
        "\n",
        "    pass\n",
        "\n",
        "class Dog(Animal):\n",
        "    # make_sound\n",
        "    # \"멍멍!\"\n",
        "    pass\n",
        "\n",
        "class Cat(Animal):\n",
        "    #  make_sound\n",
        "    # \"야옹!\"\n",
        "    pass"
      ],
      "metadata": {
        "id": "rF_RAv67LFxu"
      },
      "execution_count": null,
      "outputs": []
    },
    {
      "cell_type": "code",
      "source": [
        "# 문제 1\n",
        "class Animal:\n",
        "    def __init__(self, name):\n",
        "        self.name = name\n",
        "\n",
        "    def make_sound(self):\n",
        "        pass\n",
        "        #self = self 는 pass처럼 작용된다.\n",
        "\n",
        "class Dog(Animal):\n",
        "    def make_sound(self):\n",
        "        return '멍멍!'\n",
        "\n",
        "class Cat(Animal):\n",
        "    def make_sound(self):\n",
        "        return '야옹!'\n",
        "\n",
        "dog = Dog('바둑이')\n",
        "cat = Cat('야옹이')\n",
        "\n",
        "# 출력\n",
        "\n",
        "print(dog.name)\n",
        "print(cat.name)\n",
        "print(dog.make_sound())\n",
        "print(cat.make_sound())"
      ],
      "metadata": {
        "colab": {
          "base_uri": "https://localhost:8080/"
        },
        "id": "RMGZ4uP-MX6m",
        "outputId": "eab9cefb-a8fb-413d-9ef5-c089b952824a"
      },
      "execution_count": 61,
      "outputs": [
        {
          "output_type": "stream",
          "name": "stdout",
          "text": [
            "바둑이\n",
            "야옹이\n",
            "멍멍!\n",
            "야옹!\n"
          ]
        }
      ]
    },
    {
      "cell_type": "code",
      "source": [
        "# 문제 풀이\n",
        "class Animal:\n",
        "    def __init__(self, name):\n",
        "        self.name = name\n",
        "\n",
        "    def make_sound(self):\n",
        "        pass\n",
        "\n",
        "\n",
        "class Dog(Animal):\n",
        "    def make_sound(self):\n",
        "        return \"멍멍!\"\n",
        "\n",
        "\n",
        "class Cat(Animal):\n",
        "    def make_sound(self):\n",
        "        return \"야옹!\""
      ],
      "metadata": {
        "id": "oJrnehLEeQ_k"
      },
      "execution_count": null,
      "outputs": []
    },
    {
      "cell_type": "markdown",
      "source": [
        "* 문제 2:\n",
        "Person이라는 기본 클래스를 만들어주세요. Person 클래스는 이름과 나이라는 두 개의 속성과 소개하기라는 메서드를 가지며, 이 메서드는 \"Hello World!, 제 이름은 [이름]이고 제 나이는 [나이]살 입니다.\"라는 메시지를 출력합니다.\n",
        "---\n",
        "Person 클래스를 상속받는 Student 클래스를 정의하십시오. Student 클래스는 추가적으로 학년 속성을 가집니다. Student 클래스에서 소개하기 메서드를 오버라이드하여 \"Hello World!, 제 이름은 [이름]이고 제 나이는 [나이]살 입니다. 그리고 저는 [학년]학년입니다. \"라는 메시지를 출력하도록 만드세요."
      ],
      "metadata": {
        "id": "HXYJuYbgMPc_"
      }
    },
    {
      "cell_type": "code",
      "source": [
        "# 문제 2\n",
        "\n",
        "class Person:\n",
        "    def __init__(self, name, age):\n",
        "        self.name = name\n",
        "        self.age = age\n",
        "\n",
        "    def introduce(self):\n",
        "        return f'제 이름은 {self.name}이고, 제 나이는 {self.age}살 입니다.'\n",
        "\n",
        "\n",
        "class Student(Person):\n",
        "    def __init__(self, name, age, grade):\n",
        "        super().__init__(name, age)\n",
        "        self.grade = grade\n",
        "\n",
        "    def introduce(self):\n",
        "        return super().introduce() + f'그리고 저는 {self.grade}학년입니다.'\n",
        "\n",
        "\n",
        "A = Student('이동찬', '14', '5')\n",
        "\n",
        "#출력\n",
        "print(A.introduce())"
      ],
      "metadata": {
        "colab": {
          "base_uri": "https://localhost:8080/"
        },
        "id": "Vbc937IgMGcC",
        "outputId": "2af786d9-2298-4ffe-b95b-01fff6ae4d3a"
      },
      "execution_count": 59,
      "outputs": [
        {
          "output_type": "stream",
          "name": "stdout",
          "text": [
            "제 이름은 이동찬이고, 제 나이는 14살 입니다.그리고 저는 5학년입니다.\n"
          ]
        }
      ]
    },
    {
      "cell_type": "code",
      "source": [
        "# 문제 풀이\n",
        "class Person:\n",
        "    def __init__(self, name, age):\n",
        "        self.name = name\n",
        "        self.age = age\n",
        "\n",
        "    def introduce(self):\n",
        "        return f'안녕하세요! 제 이름은 {self.name}이고 제 나이는 {self.age}입니다'\n",
        "\n",
        "\n",
        "class Student(Person):\n",
        "    def __init__(self, name, age, grade):\n",
        "        super().__init__(name, age)\n",
        "        self.grade = grade\n",
        "\n",
        "    def introduce(self):\n",
        "        return f'안녕하세요! 제 이름은 {self.name}이고 제 나이는 {self.age}입니다. {self.grade}학년 입니다.'\n",
        "\n",
        "\n",
        "s = Student('jun', 10, 3)\n",
        "s.introduce()"
      ],
      "metadata": {
        "id": "UWcxthH6eR14"
      },
      "execution_count": null,
      "outputs": []
    },
    {
      "cell_type": "code",
      "source": [
        "# 참조\n",
        "class Person:\n",
        "    def __init__(self, name, age):\n",
        "        self.name = name\n",
        "        self.age = age\n",
        "\n",
        "    def introduce(self):\n",
        "        return f'제 이름은 {self.name}이고, 제 나이는 {self.age}살 입니다.'\n",
        "\n",
        "class Student(Person):\n",
        "    def __init__(self, name, age, grade):  # 수정된 부분: name과 age를 받아야 함\n",
        "        super().__init__(name, age)   # 부모 클래스인 Animal의 __init__ 메소드 호출\n",
        "        self.grade = grade\n",
        "\n",
        "    def introduce(self):  # 부모 클래스인 Animal의 introduce 메소드를 오버라이딩\n",
        "        return super().introduce() + f' 그리고 저는 {self.grade}학년입니다.' # 부모 클래스인 Animal의 introduce 메소드 호출\n",
        "\n",
        "\n",
        "A = Student('동찬이', '14', '2')  # Student 객체 생성\n",
        "\n",
        "print(A.introduce())  # introduce 메서드 출력\n",
        "\n",
        "# super()는 주로 상속관계의 부모나 슈퍼클래스의 메서드나 속성을 호출하여 가져올수 있는 명령어이다."
      ],
      "metadata": {
        "colab": {
          "base_uri": "https://localhost:8080/"
        },
        "id": "azAuHFrZTzvn",
        "outputId": "967af3aa-bd2d-4bd7-879d-a33a75604735"
      },
      "execution_count": 58,
      "outputs": [
        {
          "output_type": "stream",
          "name": "stdout",
          "text": [
            "제 이름은 동찬이이고, 제 나이는 14살 입니다. 그리고 저는 2학년입니다.\n"
          ]
        }
      ]
    }
  ]
}